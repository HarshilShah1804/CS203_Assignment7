{
  "cells": [
    {
      "cell_type": "markdown",
      "metadata": {},
      "source": [
        "## Import libraries"
      ]
    },
    {
      "cell_type": "code",
      "execution_count": 1,
      "metadata": {
        "id": "MJYcGAT_p6KG"
      },
      "outputs": [],
      "source": [
        "import pandas as pd\n",
        "import numpy as np\n",
        "import torch\n",
        "import torch.nn as nn\n",
        "import torch.optim as optim\n",
        "from sklearn.model_selection import train_test_split\n",
        "from sklearn.feature_extraction.text import CountVectorizer\n",
        "from torch.utils.data import DataLoader, TensorDataset\n",
        "from sklearn.metrics import accuracy_score, classification_report, confusion_matrix\n",
        "from torch.utils.tensorboard import SummaryWriter\n",
        "import seaborn as sns\n",
        "import matplotlib.pyplot as plt\n",
        "import os\n",
        "from sklearn.feature_extraction.text import CountVectorizer\n",
        "import torch\n",
        "from torch.utils.data import TensorDataset, DataLoader"
      ]
    },
    {
      "cell_type": "markdown",
      "metadata": {},
      "source": [
        "## Set device"
      ]
    },
    {
      "cell_type": "code",
      "execution_count": 2,
      "metadata": {
        "id": "pM0Zy3zQa_9X"
      },
      "outputs": [],
      "source": [
        "device = torch.device(\"cuda\" if torch.cuda.is_available() else \"cpu\")"
      ]
    },
    {
      "cell_type": "markdown",
      "metadata": {},
      "source": [
        "## Load and Preprocess Data"
      ]
    },
    {
      "cell_type": "code",
      "execution_count": 3,
      "metadata": {
        "id": "msCchf7hp6KL"
      },
      "outputs": [],
      "source": [
        "train_url = \"https://raw.githubusercontent.com/clairett/pytorch-sentiment-classification/master/data/SST2/train.tsv\"\n",
        "test_url = \"https://raw.githubusercontent.com/clairett/pytorch-sentiment-classification/master/data/SST2/test.tsv\"\n",
        "imdb_url = \"https://raw.githubusercontent.com/Ankit152/IMDB-sentiment-analysis/master/IMDB-Dataset.csv\""
      ]
    },
    {
      "cell_type": "code",
      "execution_count": 4,
      "metadata": {
        "colab": {
          "base_uri": "https://localhost:8080/"
        },
        "id": "fOO-T1mJA_TT",
        "outputId": "6e689c6a-aa54-4dc2-9f15-06fbb81f053b"
      },
      "outputs": [
        {
          "name": "stdout",
          "output_type": "stream",
          "text": [
            "Training data shape: (6920, 2)\n",
            "                                                   0  1\n",
            "0  a stirring , funny and finally transporting re...  1\n",
            "1  apparently reassembled from the cutting room f...  0\n",
            "2  they presume their audience wo n't sit still f...  0\n",
            "3  this is a visually stunning rumination on love...  1\n",
            "4  jonathan parker 's bartleby should have been t...  1\n",
            "Test data shape: (1821, 2)\n",
            "                                                   0  1\n",
            "0       no movement , no yuks , not much of anything  0\n",
            "1  a gob of drivel so sickly sweet , even the eag...  0\n",
            "2  gangs of new york is an unapologetic mess , wh...  0\n",
            "3  we never really feel involved with the story ,...  0\n",
            "4              this is one of polanski 's best films  1\n",
            "Final training set size: 5536\n",
            "Validation set size: 1384\n"
          ]
        }
      ],
      "source": [
        "train_data = pd.read_csv(train_url, sep='\\t',header=None)\n",
        "print(f\"Training data shape: {train_data.shape}\")\n",
        "print(train_data.head())\n",
        "\n",
        "test_data = pd.read_csv(test_url, sep='\\t',header=None)\n",
        "print(f\"Test data shape: {test_data.shape}\")\n",
        "print(test_data.head())\n",
        "\n",
        "\n",
        "train_data_final, val_data = train_test_split(train_data, test_size=0.2, random_state=42)\n",
        "print(f\"Final training set size: {len(train_data_final)}\")\n",
        "print(f\"Validation set size: {len(val_data)}\")"
      ]
    },
    {
      "cell_type": "markdown",
      "metadata": {},
      "source": [
        "# Bag of Words"
      ]
    },
    {
      "cell_type": "markdown",
      "metadata": {},
      "source": [
        "## Create the bag-of-words for STT 2 data"
      ]
    },
    {
      "cell_type": "code",
      "execution_count": 5,
      "metadata": {
        "colab": {
          "base_uri": "https://localhost:8080/"
        },
        "id": "3_3S1XmT3AmO",
        "outputId": "d9b58666-ef4a-41d5-e99e-e3d1bb879914"
      },
      "outputs": [
        {
          "name": "stdout",
          "output_type": "stream",
          "text": [
            "Vocabulary size: 10000\n"
          ]
        }
      ],
      "source": [
        "vectorizer = CountVectorizer(max_features=10000, stop_words=None)\n",
        "\n",
        "text_column_index = 0\n",
        "label_column_index = 1\n",
        "\n",
        "train_data_final.iloc[:, text_column_index] = train_data_final.iloc[:, text_column_index].astype(str)\n",
        "val_data.iloc[:, text_column_index] = val_data.iloc[:, text_column_index].astype(str)\n",
        "test_data.iloc[:, text_column_index] = test_data.iloc[:, text_column_index].astype(str)\n",
        "\n",
        "X_train = vectorizer.fit_transform(train_data_final.iloc[:, text_column_index].values).toarray()\n",
        "X_val = vectorizer.transform(val_data.iloc[:, text_column_index].values).toarray()\n",
        "X_test = vectorizer.transform(test_data.iloc[:, text_column_index].values).toarray()\n",
        "\n",
        "print(\"Vocabulary size:\", len(vectorizer.vocabulary_))\n",
        "\n",
        "y_train = train_data_final.iloc[:, label_column_index].values\n",
        "y_val = val_data.iloc[:, label_column_index].values\n",
        "y_test = test_data.iloc[:, label_column_index].values\n",
        "\n",
        "if not np.issubdtype(y_train.dtype, np.integer):\n",
        "    y_train = y_train.astype(int)\n",
        "    y_val = y_val.astype(int)\n",
        "    y_test = y_test.astype(int)"
      ]
    },
    {
      "cell_type": "code",
      "execution_count": 6,
      "metadata": {
        "id": "XaBkOWNsp6KN"
      },
      "outputs": [],
      "source": [
        "X_train_tensor = torch.FloatTensor(X_train)\n",
        "y_train_tensor = torch.LongTensor(y_train)\n",
        "X_val_tensor = torch.FloatTensor(X_val)\n",
        "y_val_tensor = torch.LongTensor(y_val)\n",
        "X_test_tensor = torch.FloatTensor(X_test)\n",
        "y_test_tensor = torch.LongTensor(y_test)\n",
        "\n",
        "batch_size = 64\n",
        "train_dataset = TensorDataset(X_train_tensor, y_train_tensor)\n",
        "val_dataset = TensorDataset(X_val_tensor, y_val_tensor)\n",
        "test_dataset = TensorDataset(X_test_tensor, y_test_tensor)\n",
        "\n",
        "train_loader = DataLoader(train_dataset, batch_size=batch_size, shuffle=True)\n",
        "test_loader = DataLoader(test_dataset, batch_size=batch_size)\n",
        "val_loader = DataLoader(val_dataset, batch_size=batch_size)"
      ]
    },
    {
      "cell_type": "markdown",
      "metadata": {},
      "source": [
        "## Define the model architecture"
      ]
    },
    {
      "cell_type": "code",
      "execution_count": 7,
      "metadata": {
        "id": "J3QlMKcN18Vs"
      },
      "outputs": [],
      "source": [
        "class SentimentMLP(nn.Module):\n",
        "    def __init__(self, input_size=10000):\n",
        "        super(SentimentMLP, self).__init__()\n",
        "        self.layer1 = nn.Linear(input_size, 512)\n",
        "        self.layer2 = nn.Linear(512, 256)\n",
        "        self.layer3 = nn.Linear(256, 128)\n",
        "        self.layer4 = nn.Linear(128, 64)\n",
        "        self.layer5 = nn.Linear(64, 2)\n",
        "\n",
        "        self.relu = nn.ReLU()\n",
        "        self.dropout = nn.Dropout(0.3)\n",
        "\n",
        "    def forward(self, x):\n",
        "        x = self.dropout(self.relu(self.layer1(x)))\n",
        "        x = self.dropout(self.relu(self.layer2(x)))\n",
        "        x = self.dropout(self.relu(self.layer3(x)))\n",
        "        x = self.dropout(self.relu(self.layer4(x)))\n",
        "        x = self.layer5(x)\n",
        "        return x\n",
        "\n",
        "def count_parameters(model):\n",
        "    return sum(p.numel() for p in model.parameters() if p.requires_grad)\n",
        "\n",
        "model = SentimentMLP().to(device)\n",
        "total_params = count_parameters(model)"
      ]
    },
    {
      "cell_type": "markdown",
      "metadata": {},
      "source": [
        "## Model Summary"
      ]
    },
    {
      "cell_type": "code",
      "execution_count": 8,
      "metadata": {
        "colab": {
          "base_uri": "https://localhost:8080/"
        },
        "id": "k3QkLgYip6KO",
        "outputId": "ec81d3c3-a1a1-4547-e5b5-a4ec10dd4c50"
      },
      "outputs": [
        {
          "name": "stdout",
          "output_type": "stream",
          "text": [
            "Model Summary:\n",
            "==================================================\n",
            "Input Size: 10000\n",
            "Layer 1: Linear(10000, 512)\n",
            "    Parameters: 5120512\n",
            "    Activation: ReLU + Dropout(0.3)\n",
            "Layer 2: Linear(512, 256)\n",
            "    Parameters: 131328\n",
            "    Activation: ReLU + Dropout(0.3)\n",
            "Layer 3: Linear(256, 128)\n",
            "    Parameters: 32896\n",
            "    Activation: ReLU + Dropout(0.3)\n",
            "Layer 4: Linear(128, 64)\n",
            "    Parameters: 8256\n",
            "    Activation: ReLU + Dropout(0.3)\n",
            "Layer 5: Linear(64, 2)\n",
            "    Parameters: 130\n",
            "Total Parameters: 5293122\n"
          ]
        }
      ],
      "source": [
        "print(\"Model Summary:\")\n",
        "print(\"=\"*50)\n",
        "print(f\"Input Size: 10000\")\n",
        "print(f\"Layer 1: Linear(10000, 512)\")\n",
        "print(f\"    Parameters: {10000 * 512 + 512}\")\n",
        "print(f\"    Activation: ReLU + Dropout(0.3)\")\n",
        "print(f\"Layer 2: Linear(512, 256)\")\n",
        "print(f\"    Parameters: {512 * 256 + 256}\")\n",
        "print(f\"    Activation: ReLU + Dropout(0.3)\")\n",
        "print(f\"Layer 3: Linear(256, 128)\")\n",
        "print(f\"    Parameters: {256 * 128 + 128}\")\n",
        "print(f\"    Activation: ReLU + Dropout(0.3)\")\n",
        "print(f\"Layer 4: Linear(128, 64)\")\n",
        "print(f\"    Parameters: {128 * 64 + 64}\")\n",
        "print(f\"    Activation: ReLU + Dropout(0.3)\")\n",
        "print(f\"Layer 5: Linear(64, 2)\")\n",
        "print(f\"    Parameters: {64 * 2 + 2}\")\n",
        "print(f\"Total Parameters: {total_params}\")"
      ]
    },
    {
      "cell_type": "markdown",
      "metadata": {},
      "source": [
        "## Training and Checkpointing model"
      ]
    },
    {
      "cell_type": "markdown",
      "metadata": {},
      "source": [
        "### Helper function for train"
      ]
    },
    {
      "cell_type": "code",
      "execution_count": 9,
      "metadata": {
        "id": "6mFeTHq7bNgU"
      },
      "outputs": [],
      "source": [
        "def train_epoch(model, train_loader, criterion, optimizer, device):\n",
        "    model.train()\n",
        "    running_loss = 0.0\n",
        "    correct = 0\n",
        "    total = 0\n",
        "\n",
        "    for inputs, labels in train_loader:\n",
        "        inputs, labels = inputs.to(device), labels.to(device)\n",
        "\n",
        "        optimizer.zero_grad()\n",
        "        outputs = model(inputs)\n",
        "        loss = criterion(outputs, labels)\n",
        "        loss.backward()\n",
        "        optimizer.step()\n",
        "\n",
        "        running_loss += loss.item() * inputs.size(0)\n",
        "        _, predicted = outputs.max(1)\n",
        "        total += labels.size(0)\n",
        "        correct += predicted.eq(labels).sum().item()\n",
        "\n",
        "    epoch_loss = running_loss / total\n",
        "    epoch_acc = 100. * correct / total\n",
        "\n",
        "    return epoch_loss, epoch_acc"
      ]
    },
    {
      "cell_type": "markdown",
      "metadata": {},
      "source": [
        "### Helper function for testing"
      ]
    },
    {
      "cell_type": "code",
      "execution_count": 10,
      "metadata": {
        "id": "p5N5jIzSbUWm"
      },
      "outputs": [],
      "source": [
        "def validate(model, val_loader, criterion, device):\n",
        "    model.eval()\n",
        "    running_loss = 0.0\n",
        "    correct = 0\n",
        "    total = 0\n",
        "\n",
        "    with torch.no_grad():\n",
        "        for inputs, labels in val_loader:\n",
        "            inputs, labels = inputs.to(device), labels.to(device)\n",
        "\n",
        "            outputs = model(inputs)\n",
        "            loss = criterion(outputs, labels)\n",
        "\n",
        "            running_loss += loss.item() * inputs.size(0)\n",
        "            _, predicted = outputs.max(1)\n",
        "            total += labels.size(0)\n",
        "            correct += predicted.eq(labels).sum().item()\n",
        "\n",
        "    val_loss = running_loss / total\n",
        "    val_acc = 100. * correct / total\n",
        "\n",
        "    return val_loss, val_acc"
      ]
    },
    {
      "cell_type": "markdown",
      "metadata": {},
      "source": [
        "### Helper function to get confusion matrix"
      ]
    },
    {
      "cell_type": "code",
      "execution_count": 11,
      "metadata": {
        "id": "7GHg-1zqbWxh"
      },
      "outputs": [],
      "source": [
        "def plot_cm(model, X, y, device):\n",
        "    model.eval()\n",
        "    with torch.no_grad():\n",
        "        outputs = model(X)\n",
        "        cm = confusion_matrix(y, outputs.argmax(dim=1).cpu().numpy())\n",
        "        return cm"
      ]
    },
    {
      "cell_type": "code",
      "execution_count": 12,
      "metadata": {
        "id": "bV9C1jO2bgov"
      },
      "outputs": [],
      "source": [
        "criterion = nn.CrossEntropyLoss()\n",
        "optimizer = optim.Adam(model.parameters(), lr=0.001)\n",
        "num_epochs = 10\n",
        "best_val_acc = 0.0\n",
        "checkpoint_path = 'checkpoint.pt'\n",
        "writer = SummaryWriter(\"runs/bow\")"
      ]
    },
    {
      "cell_type": "code",
      "execution_count": 13,
      "metadata": {
        "colab": {
          "base_uri": "https://localhost:8080/"
        },
        "id": "bHn-W5xYbmGS",
        "outputId": "ff6cb7fb-f183-4f19-a5a2-f83106da7edc"
      },
      "outputs": [
        {
          "name": "stdout",
          "output_type": "stream",
          "text": [
            "Epoch 1/10, Train Loss: 0.6049, Train Acc: 66.49%, Val Loss: 0.4579, Val Acc: 79.41%\n",
            "Checkpoint saved at epoch 1 with validation accuracy: 79.41%\n",
            "Epoch 2/10, Train Loss: 0.2769, Train Acc: 89.14%, Val Loss: 0.4567, Val Acc: 80.85%\n",
            "Checkpoint saved at epoch 2 with validation accuracy: 80.85%\n",
            "Epoch 3/10, Train Loss: 0.0826, Train Acc: 96.80%, Val Loss: 0.7230, Val Acc: 79.99%\n",
            "Epoch 4/10, Train Loss: 0.0204, Train Acc: 99.22%, Val Loss: 1.1589, Val Acc: 78.83%\n",
            "Epoch 5/10, Train Loss: 0.0042, Train Acc: 99.80%, Val Loss: 1.7327, Val Acc: 78.90%\n",
            "Epoch 6/10, Train Loss: 0.0024, Train Acc: 99.98%, Val Loss: 2.2844, Val Acc: 77.75%\n",
            "Epoch 7/10, Train Loss: 0.0092, Train Acc: 99.71%, Val Loss: 1.5106, Val Acc: 77.75%\n",
            "Epoch 8/10, Train Loss: 0.0103, Train Acc: 99.64%, Val Loss: 1.6970, Val Acc: 76.45%\n",
            "Epoch 9/10, Train Loss: 0.0076, Train Acc: 99.71%, Val Loss: 1.6303, Val Acc: 77.75%\n",
            "Epoch 10/10, Train Loss: 0.0031, Train Acc: 99.89%, Val Loss: 1.7012, Val Acc: 78.40%\n",
            "Training completed. Best validation accuracy: 80.85%\n"
          ]
        }
      ],
      "source": [
        "for epoch in range(num_epochs):\n",
        "    train_loss, train_acc = train_epoch(model, train_loader, criterion, optimizer, device)\n",
        "    val_loss, val_acc = validate(model, val_loader, criterion, device)\n",
        "    writer.add_scalar('Loss/train', train_loss, epoch)\n",
        "    writer.add_scalar('Loss/val', val_loss, epoch)\n",
        "    writer.add_scalar('Accuracy/train', train_acc, epoch)\n",
        "    writer.add_scalar('Accuracy/val', val_acc, epoch)\n",
        "    print(f'Epoch {epoch+1}/{num_epochs}, '\n",
        "          f'Train Loss: {train_loss:.4f}, Train Acc: {train_acc:.2f}%, '\n",
        "          f'Val Loss: {val_loss:.4f}, Val Acc: {val_acc:.2f}%')\n",
        "\n",
        "    # Save the best model based on validation accuracy\n",
        "    if val_acc > best_val_acc:\n",
        "        best_val_acc = val_acc\n",
        "        torch.save({\n",
        "            'epoch': epoch + 1,\n",
        "            'model_state_dict': model.state_dict(),\n",
        "            'optimizer_state_dict': optimizer.state_dict(),\n",
        "            'val_acc': val_acc,\n",
        "            'val_loss': val_loss,\n",
        "        }, checkpoint_path)\n",
        "        print(f'Checkpoint saved at epoch {epoch+1} with validation accuracy: {val_acc:.2f}%')\n",
        "\n",
        "print(f\"Training completed. Best validation accuracy: {best_val_acc:.2f}%\")"
      ]
    },
    {
      "cell_type": "code",
      "execution_count": 14,
      "metadata": {
        "colab": {
          "base_uri": "https://localhost:8080/",
          "height": 1000
        },
        "id": "oBJ1gldebHFB",
        "outputId": "75fa0dc1-7327-489f-ce26-845de79da4f9"
      },
      "outputs": [
        {
          "data": {
            "image/png": "[encoded data removed]",
            "text/plain": [
              "<Figure size 600x600 with 2 Axes>"
            ]
          },
          "metadata": {},
          "output_type": "display_data"
        },
        {
          "data": {
            "image/png": "[encoded data removed]",
            "text/plain": [
              "<Figure size 600x600 with 2 Axes>"
            ]
          },
          "metadata": {},
          "output_type": "display_data"
        },
        {
          "data": {
            "image/png": "[encoded data removed]",
            "text/plain": [
              "<Figure size 600x600 with 2 Axes>"
            ]
          },
          "metadata": {},
          "output_type": "display_data"
        },
        {
          "name": "stdout",
          "output_type": "stream",
          "text": [
            "Loaded best model from epoch 2 with validation accuracy: 80.85%\n"
          ]
        }
      ],
      "source": [
        "train_cm = plot_cm(model, X_train_tensor.to(device), y_train_tensor, device)\n",
        "val_cm = plot_cm(model, X_val_tensor.to(device), y_val_tensor, device)\n",
        "test_cm = plot_cm(model, X_test_tensor.to(device), y_test_tensor, device)\n",
        "\n",
        "fig, ax = plt.subplots(figsize=(6, 6))\n",
        "sns.heatmap(train_cm, annot=True, fmt='d', cmap='Blues', ax=ax)\n",
        "ax.set_title('Confusion Matrix - Train Set')\n",
        "plt.show()\n",
        "writer.add_figure('Confusion Matrix/train', fig)\n",
        "\n",
        "fig, ax = plt.subplots(figsize=(6, 6))\n",
        "sns.heatmap(val_cm, annot=True, fmt='d', cmap='Blues', ax=ax)\n",
        "ax.set_title('Confusion Matrix - Validation Set')\n",
        "plt.show()\n",
        "writer.add_figure('Confusion Matrix/val', fig)\n",
        "\n",
        "fig, ax = plt.subplots(figsize=(6, 6))\n",
        "sns.heatmap(test_cm, annot=True, fmt='d', cmap='Blues', ax=ax)\n",
        "ax.set_title('Confusion Matrix - Test Set')\n",
        "plt.show()\n",
        "writer.add_figure('Confusion Matrix/test', fig)\n",
        "\n",
        "test_loss, test_acc = validate(model, test_loader, criterion, device)\n",
        "writer.add_scalar('Loss/test', test_loss, epoch)\n",
        "writer.add_scalar('Accuracy/test', test_acc, epoch)\n",
        "writer.close()\n",
        "\n",
        "checkpoint = torch.load(checkpoint_path)\n",
        "model.load_state_dict(checkpoint['model_state_dict'])\n",
        "print(f\"Loaded best model from epoch {checkpoint['epoch']} with validation accuracy: {checkpoint['val_acc']:.2f}%\")"
      ]
    },
    {
      "cell_type": "markdown",
      "metadata": {},
      "source": [
        "# Continual Learning on IMDB dataset"
      ]
    },
    {
      "cell_type": "markdown",
      "metadata": {},
      "source": [
        "## Load and Preprocess data"
      ]
    },
    {
      "cell_type": "code",
      "execution_count": 15,
      "metadata": {
        "colab": {
          "base_uri": "https://localhost:8080/"
        },
        "id": "VkIi6Vd7p6KR",
        "outputId": "7061aabb-16ed-40b5-e8a8-ef14ef36532e"
      },
      "outputs": [
        {
          "name": "stdout",
          "output_type": "stream",
          "text": [
            "IMDB dataset shape: (50000, 2)\n",
            "                                              review sentiment\n",
            "0  One of the other reviewers has mentioned that ...  positive\n",
            "1  A wonderful little production. <br /><br />The...  positive\n",
            "2  I thought this was a wonderful way to spend ti...  positive\n",
            "3  Basically there's a family where a little boy ...  negative\n",
            "4  Petter Mattei's \"Love in the Time of Money\" is...  positive\n",
            "IMDB train set size: 40000\n",
            "IMDB validation set size: 10000\n"
          ]
        }
      ],
      "source": [
        "imdb_url = \"https://raw.githubusercontent.com/Ankit152/IMDB-sentiment-analysis/master/IMDB-Dataset.csv\"\n",
        "imdb_data = pd.read_csv(imdb_url)\n",
        "print(f\"IMDB dataset shape: {imdb_data.shape}\")\n",
        "print(imdb_data.head())\n",
        "\n",
        "imdb_data['sentiment_label'] = imdb_data['sentiment'].map({'negative': 0, 'positive': 1})\n",
        "\n",
        "imdb_train, imdb_val = train_test_split(imdb_data, test_size=0.2, random_state=42)\n",
        "print(f\"IMDB train set size: {len(imdb_train)}\")\n",
        "print(f\"IMDB validation set size: {len(imdb_val)}\")"
      ]
    },
    {
      "cell_type": "code",
      "execution_count": 16,
      "metadata": {
        "id": "JP_sqJn0p6KS"
      },
      "outputs": [],
      "source": [
        "vectorizer_imdb = CountVectorizer(max_features=10000)\n",
        "X_imdb_train = vectorizer_imdb.fit_transform(imdb_train['review']).toarray()\n",
        "X_imdb_val = vectorizer_imdb.transform(imdb_val['review']).toarray()\n",
        "\n",
        "y_imdb_train = imdb_train['sentiment_label'].values\n",
        "y_imdb_val = imdb_val['sentiment_label'].values\n",
        "\n",
        "X_imdb_train_tensor = torch.FloatTensor(X_imdb_train)\n",
        "y_imdb_train_tensor = torch.LongTensor(y_imdb_train)\n",
        "X_imdb_val_tensor = torch.FloatTensor(X_imdb_val)\n",
        "y_imdb_val_tensor = torch.LongTensor(y_imdb_val)\n",
        "\n",
        "imdb_train_dataset = TensorDataset(X_imdb_train_tensor, y_imdb_train_tensor)\n",
        "imdb_val_dataset = TensorDataset(X_imdb_val_tensor, y_imdb_val_tensor)\n",
        "\n",
        "imdb_train_loader = DataLoader(imdb_train_dataset, batch_size=batch_size, shuffle=True)\n",
        "imdb_val_loader = DataLoader(imdb_val_dataset, batch_size=batch_size)"
      ]
    },
    {
      "cell_type": "markdown",
      "metadata": {},
      "source": [
        "###  Load and train Checkpointed Model"
      ]
    },
    {
      "cell_type": "code",
      "execution_count": 17,
      "metadata": {
        "colab": {
          "base_uri": "https://localhost:8080/"
        },
        "id": "CJELyWdaY97y",
        "outputId": "80b2e373-eb6d-4f8d-9c24-33b0c2c85ce9"
      },
      "outputs": [
        {
          "name": "stdout",
          "output_type": "stream",
          "text": [
            "Epoch 1/5, Train Loss: 0.9617, Train Acc: 71.38%, Val Loss: 0.3061, Val Acc: 88.15%\n",
            "Checkpoint saved at epoch 1 with validation accuracy: 88.15%\n",
            "Epoch 2/5, Train Loss: 0.2834, Train Acc: 89.22%, Val Loss: 0.2555, Val Acc: 89.87%\n",
            "Checkpoint saved at epoch 2 with validation accuracy: 89.87%\n",
            "Epoch 3/5, Train Loss: 0.2112, Train Acc: 92.12%, Val Loss: 0.2570, Val Acc: 89.79%\n",
            "Epoch 4/5, Train Loss: 0.1570, Train Acc: 94.42%, Val Loss: 0.2781, Val Acc: 89.39%\n",
            "Epoch 5/5, Train Loss: 0.0958, Train Acc: 96.76%, Val Loss: 0.3468, Val Acc: 88.96%\n",
            "Fine-tuning completed. Best validation accuracy: 89.87%\n",
            "Loaded best fine-tuned model from epoch 2 with validation accuracy: 89.87%\n"
          ]
        }
      ],
      "source": [
        "model.load_state_dict(checkpoint['model_state_dict'])\n",
        "\n",
        "criterion = nn.CrossEntropyLoss()\n",
        "optimizer = optim.Adam(model.parameters(), lr=0.0001)\n",
        "\n",
        "num_epochs = 5\n",
        "best_val_acc = 0.0\n",
        "imdb_checkpoint_path = 'imdb_checkpoint.pt'\n",
        "\n",
        "writer = SummaryWriter(\"runs/bow_imdb\")\n",
        "\n",
        "for epoch in range(num_epochs):\n",
        "    train_loss, train_acc = train_epoch(model, imdb_train_loader, criterion, optimizer, device)\n",
        "    val_loss, val_acc = validate(model, imdb_val_loader, criterion, device)\n",
        "\n",
        "    print(f'Epoch {epoch+1}/{num_epochs}, '\n",
        "          f'Train Loss: {train_loss:.4f}, Train Acc: {train_acc:.2f}%, '\n",
        "          f'Val Loss: {val_loss:.4f}, Val Acc: {val_acc:.2f}%')\n",
        "\n",
        "    if val_acc > best_val_acc:\n",
        "        best_val_acc = val_acc\n",
        "        torch.save({\n",
        "            'epoch': epoch + 1,\n",
        "            'model_state_dict': model.state_dict(),\n",
        "            'optimizer_state_dict': optimizer.state_dict(),\n",
        "            'val_acc': val_acc,\n",
        "            'val_loss': val_loss,\n",
        "        }, imdb_checkpoint_path)\n",
        "        writer.add_scalar('Loss/train', train_loss, epoch)\n",
        "        writer.add_scalar('Loss/val', val_loss, epoch)\n",
        "        writer.add_scalar('Accuracy/train', train_acc, epoch)\n",
        "        writer.add_scalar('Accuracy/val', val_acc, epoch)\n",
        "        print(f'Checkpoint saved at epoch {epoch+1} with validation accuracy: {val_acc:.2f}%')\n",
        "\n",
        "print(f\"Fine-tuning completed. Best validation accuracy: {best_val_acc:.2f}%\")\n",
        "\n",
        "checkpoint = torch.load(imdb_checkpoint_path)\n",
        "model.load_state_dict(checkpoint['model_state_dict'])\n",
        "print(f\"Loaded best fine-tuned model from epoch {checkpoint['epoch']} with validation accuracy: {checkpoint['val_acc']:.2f}%\")"
      ]
    },
    {
      "cell_type": "code",
      "execution_count": 18,
      "metadata": {
        "id": "-6QsLDyTp6KT"
      },
      "outputs": [],
      "source": [
        "def evaluate_model(model, data_loader, criterion, device):\n",
        "    model.eval()\n",
        "    running_loss = 0.0\n",
        "    all_predictions = []\n",
        "    all_labels = []\n",
        "\n",
        "    with torch.no_grad():\n",
        "        for inputs, labels in data_loader:\n",
        "            inputs, labels = inputs.to(device), labels.to(device)\n",
        "\n",
        "            outputs = model(inputs)\n",
        "            loss = criterion(outputs, labels)\n",
        "\n",
        "            running_loss += loss.item() * inputs.size(0)\n",
        "\n",
        "            _, predictions = torch.max(outputs, 1)\n",
        "\n",
        "            all_predictions.extend(predictions.cpu().numpy())\n",
        "            all_labels.extend(labels.cpu().numpy())\n",
        "\n",
        "    total_samples = len(all_labels)\n",
        "    val_loss = running_loss / total_samples\n",
        "    val_accuracy = accuracy_score(all_labels, all_predictions) * 100\n",
        "\n",
        "    report = classification_report(all_labels, all_predictions, target_names=['negative', 'positive'])\n",
        "\n",
        "    conf_matrix = confusion_matrix(all_labels, all_predictions)\n",
        "\n",
        "    return val_loss, val_accuracy, report, conf_matrix"
      ]
    },
    {
      "cell_type": "code",
      "execution_count": 19,
      "metadata": {
        "colab": {
          "base_uri": "https://localhost:8080/",
          "height": 545
        },
        "id": "iVsB_-jkc1kr",
        "outputId": "4eec318a-4ab2-457b-f208-4d0efe7d5b82"
      },
      "outputs": [
        {
          "data": {
            "image/png": "[encoded data removed]",
            "text/plain": [
              "<Figure size 600x600 with 2 Axes>"
            ]
          },
          "metadata": {},
          "output_type": "display_data"
        }
      ],
      "source": [
        "imdb_outputs = evaluate_model(model, imdb_val_loader, criterion, device)\n",
        "writer.add_scalar('Loss/imdb', imdb_outputs[0], epoch)\n",
        "writer.add_scalar('Accuracy/imdb', imdb_outputs[1], epoch)\n",
        "writer.add_text('Classification Report/imdb', imdb_outputs[2], epoch)\n",
        "fig, ax = plt.subplots(figsize=(6, 6))\n",
        "sns.heatmap(imdb_outputs[3], annot=True, fmt='d', cmap='Blues', ax=ax)\n",
        "ax.set_title('Confusion Matrix - IMDB Set')\n",
        "plt.show()\n",
        "writer.add_figure('Confusion Matrix/imdb', fig)\n",
        "writer.close()"
      ]
    },
    {
      "cell_type": "code",
      "execution_count": null,
      "metadata": {
        "id": "IM6gBTXhdT9g"
      },
      "outputs": [],
      "source": []
    }
  ],
  "metadata": {
    "accelerator": "GPU",
    "colab": {
      "gpuType": "T4",
      "provenance": []
    },
    "kernelspec": {
      "display_name": "Python 3",
      "name": "python3"
    },
    "language_info": {
      "name": "python"
    }
  },
  "nbformat": 4,
  "nbformat_minor": 0
}
